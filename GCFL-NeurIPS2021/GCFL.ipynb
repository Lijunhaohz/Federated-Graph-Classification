{
 "cells": [
  {
   "cell_type": "markdown",
   "metadata": {},
   "source": [
    "# GCFL Experiment"
   ]
  },
  {
   "cell_type": "markdown",
   "metadata": {},
   "source": [
    "### Import Packages"
   ]
  },
  {
   "cell_type": "code",
   "execution_count": 52,
   "metadata": {},
   "outputs": [],
   "source": [
    "%load_ext autoreload\n",
    "%autoreload 2"
   ]
  },
  {
   "cell_type": "code",
   "execution_count": 53,
   "metadata": {},
   "outputs": [],
   "source": [
    "import os\n",
    "import argparse\n",
    "import random\n",
    "import warnings\n",
    "import copy\n",
    "\n",
    "import torch\n",
    "from pathlib import Path\n",
    "\n",
    "import setupGC\n",
    "from training import *\n",
    "\n",
    "warnings.filterwarnings(\"ignore\")"
   ]
  },
  {
   "cell_type": "markdown",
   "metadata": {},
   "source": [
    "### Pre-defined Arguments, Seeds, and Output Paths"
   ]
  },
  {
   "cell_type": "code",
   "execution_count": 54,
   "metadata": {},
   "outputs": [
    {
     "name": "stdout",
     "output_type": "stream",
     "text": [
      "Namespace(batch_size=128, convert_x=False, datapath='./data', dataset='PROTEINS', device=device(type='cpu'), dropout=0.5, epsilon1=0.05, epsilon2=0.1, hidden=64, local_epoch=1, lr=0.001, nlayer=3, num_clients=10, num_repeat=5, num_rounds=200, outbase='./outputs', overlap=False, repeat=None, seed=123, seq_length=5, standardize=False, weight_decay=0.0005)\n",
      "Output Path: ./outputs/seqLen5/oneDS-nonOverlap/PROTEINS-10clients/eps_0.05_0.1\n"
     ]
    }
   ],
   "source": [
    "args = argparse.Namespace()\n",
    "args.device = torch.device(\"cuda\" if torch.cuda.is_available() else \"cpu\")\n",
    "args.local_epoch = 1\n",
    "args.lr = 0.001\n",
    "args.weight_decay = 5e-4\n",
    "args.nlayer = 3\n",
    "args.hidden = 64\n",
    "args.dropout = 0.5\n",
    "args.batch_size = 128\n",
    "args.repeat = None\n",
    "args.convert_x = False\n",
    "args.overlap = False\n",
    "args.standardize = False\n",
    "args.epsilon1 = 0.05\n",
    "args.epsilon2 = 0.1\n",
    "\n",
    "args.num_repeat = 5\n",
    "args.num_rounds = 200\n",
    "args.seed = 123\n",
    "args.datapath = './data'\n",
    "args.outbase = './outputs'\n",
    "args.dataset = 'PROTEINS'\n",
    "args.num_clients = 10\n",
    "args.seq_length = 5\n",
    "\n",
    "print(args)\n",
    "seed_dataSplit = 123\n",
    "EPS_1 = args.epsilon1\n",
    "EPS_2 = args.epsilon2\n",
    "\n",
    "#################### set seeds and devices ####################\n",
    "random.seed(args.seed)\n",
    "np.random.seed(args.seed)\n",
    "torch.manual_seed(args.seed)\n",
    "torch.cuda.manual_seed(args.seed)\n",
    "\n",
    "#################### set output paths ####################\n",
    "outbase = os.path.join(args.outbase, f'seqLen{args.seq_length}')\n",
    "outpath = os.path.join(outbase, f\"oneDS-nonOverlap\")\n",
    "outpath = os.path.join(outpath, f'{args.dataset}-{args.num_clients}clients', f'eps_{EPS_1}_{EPS_2}')\n",
    "Path(outpath).mkdir(parents=True, exist_ok=True)\n",
    "print(f\"Output Path: {outpath}\")"
   ]
  },
  {
   "cell_type": "markdown",
   "metadata": {},
   "source": [
    "### Prepare Dataset"
   ]
  },
  {
   "cell_type": "code",
   "execution_count": 55,
   "metadata": {},
   "outputs": [
    {
     "name": "stdout",
     "output_type": "stream",
     "text": [
      "Preparing data (original features) ...\n",
      "  ** PROTEINS 1113\n",
      "Data prepared.\n"
     ]
    }
   ],
   "source": [
    "#################### distributed one dataset to multiple clients ####################\n",
    "\"\"\" using original features \"\"\"\n",
    "print(\"Preparing data (original features) ...\")\n",
    "data_splitted, data_stats_df = setupGC.prepareData_oneDS(datapath=args.datapath, \n",
    "                                                         data=args.dataset, \n",
    "                                                         num_client=args.num_clients, \n",
    "                                                         batchSize=args.batch_size,\n",
    "                                                         convert_x=args.convert_x, \n",
    "                                                         seed=seed_dataSplit, \n",
    "                                                         overlap=args.overlap)\n",
    "print(\"Data prepared.\")"
   ]
  },
  {
   "cell_type": "markdown",
   "metadata": {},
   "source": [
    "Data Type:\n",
    "\n",
    "`splitedData`: dict with keys \"0-PROTEINS\", ..., \"(x-1)-PROTEINS\", $x$ represents the number of clients.\n",
    "\n",
    "`splitedData['x-PROTEINS']`: tuple => `(data_dict, num_node_features, num_graph_labels, len(ds_train))`\n",
    "\n",
    "`splitedData['x-PROTEINS'][0]`: dict => {'train', 'val', 'test'}"
   ]
  },
  {
   "cell_type": "code",
   "execution_count": 42,
   "metadata": {},
   "outputs": [
    {
     "data": {
      "text/plain": [
       "({'train': <torch_geometric.loader.dataloader.DataLoader at 0x7f89406e4550>,\n",
       "  'val': <torch_geometric.loader.dataloader.DataLoader at 0x7f89406e4610>,\n",
       "  'test': <torch_geometric.loader.dataloader.DataLoader at 0x7f89406e4650>},\n",
       " 3,\n",
       " 2,\n",
       " 87)"
      ]
     },
     "execution_count": 42,
     "metadata": {},
     "output_type": "execute_result"
    }
   ],
   "source": [
    "data_splitted['0-PROTEINS']"
   ]
  },
  {
   "cell_type": "markdown",
   "metadata": {},
   "source": [
    "### Write Statistical Data"
   ]
  },
  {
   "cell_type": "code",
   "execution_count": 39,
   "metadata": {},
   "outputs": [
    {
     "name": "stdout",
     "output_type": "stream",
     "text": [
      "Data statistics are written to ./outputs/seqLen5/oneDS-nonOverlap/PROTEINS-10clients/eps_0.05_0.1/stats_trainData.csv\n"
     ]
    }
   ],
   "source": [
    "#################### save statistics of data on clients ####################\n",
    "out_data_stats = os.path.join(outpath, f'stats_trainData.csv')\n",
    "data_stats_df.to_csv(out_data_stats)\n",
    "print(f\"Data statistics are written to {out_data_stats}\")"
   ]
  },
  {
   "cell_type": "markdown",
   "metadata": {},
   "source": [
    "### Initialize Clients and Server"
   ]
  },
  {
   "cell_type": "code",
   "execution_count": null,
   "metadata": {},
   "outputs": [],
   "source": [
    "init_clients, init_server, _ = setupGC.setup_devices(splitedData, args)\n",
    "print(\"\\nDone setting up devices.\")"
   ]
  },
  {
   "cell_type": "markdown",
   "metadata": {},
   "source": [
    "### Run GCFL Model"
   ]
  },
  {
   "cell_type": "code",
   "execution_count": 3,
   "metadata": {},
   "outputs": [],
   "source": [
    "def process_gcfl(clients, server):\n",
    "    print(\"\\nDone setting up GCFL devices.\")\n",
    "    print(\"Running GCFL ...\")\n",
    "\n",
    "    if args.repeat is None:\n",
    "        outfile = os.path.join(outpath, f'accuracy_gcfl_GC.csv')\n",
    "    else:\n",
    "        outfile = os.path.join(outpath, \"repeats\", f'{args.repeat}_accuracy_gcfl_GC.csv')\n",
    "\n",
    "    frame = run_gcfl(clients, server, args.num_rounds, args.local_epoch, EPS_1, EPS_2)\n",
    "    frame.to_csv(outfile)\n",
    "    print(f\"Wrote to file: {outfile}\")"
   ]
  },
  {
   "cell_type": "code",
   "execution_count": null,
   "metadata": {},
   "outputs": [],
   "source": [
    "#################### run GCFL ####################\n",
    "process_gcfl(clients=copy.deepcopy(init_clients), server=copy.deepcopy(init_server))"
   ]
  }
 ],
 "metadata": {
  "kernelspec": {
   "display_name": "gcfl",
   "language": "python",
   "name": "python3"
  },
  "language_info": {
   "codemirror_mode": {
    "name": "ipython",
    "version": 3
   },
   "file_extension": ".py",
   "mimetype": "text/x-python",
   "name": "python",
   "nbconvert_exporter": "python",
   "pygments_lexer": "ipython3",
   "version": "3.7.12"
  }
 },
 "nbformat": 4,
 "nbformat_minor": 2
}
